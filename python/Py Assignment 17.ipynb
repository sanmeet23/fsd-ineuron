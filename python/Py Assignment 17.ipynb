{
 "cells": [
  {
   "cell_type": "markdown",
   "id": "eab605c2",
   "metadata": {},
   "source": [
    "# Assignment 17\n"
   ]
  },
  {
   "cell_type": "markdown",
   "id": "2c20987e",
   "metadata": {},
   "source": [
    "Q1 - Assign the value 7 to the variable guess_me. Then, write the conditional tests (if, else, and elif) to\n",
    "print the string 'too low' if guess_me is less than 7,'too high' if greater than 7, and 'just right' if equal\n",
    "to 7."
   ]
  },
  {
   "cell_type": "code",
   "execution_count": 7,
   "id": "963542d7",
   "metadata": {},
   "outputs": [
    {
     "name": "stdout",
     "output_type": "stream",
     "text": [
      "Hello! Welcome to GUESS GAME, You will get 3 chances to guess the right number \n",
      "Enter the number 7\n",
      "Just Right!! you got the correct output at 1 chance\n"
     ]
    }
   ],
   "source": [
    "print(\"Hello! Welcome to GUESS GAME, You will get 3 chances to guess the right number \")\n",
    "\n",
    "for i in range(1,4):\n",
    "    value = int(input('Enter the number '))\n",
    "    if value > 7:\n",
    "        print(\"Too High\")\n",
    "    elif value < 7:\n",
    "        print(\"Too Low\")\n",
    "    elif value == 7:\n",
    "        \n",
    "        print(\"Just Right!!\",f'you got the correct output at {i} chance')\n",
    "        break\n",
    "else:\n",
    "    \n",
    "        \n",
    "    print('Out of chances, try next time')\n",
    "    \n",
    "    \n",
    "    "
   ]
  },
  {
   "cell_type": "markdown",
   "id": "4ec40d75",
   "metadata": {},
   "source": [
    "Q2 Print the following values of the list [3, 2, 1, 0] using a for loop."
   ]
  },
  {
   "cell_type": "code",
   "execution_count": 8,
   "id": "e22713fc",
   "metadata": {},
   "outputs": [
    {
     "name": "stdout",
     "output_type": "stream",
     "text": [
      "3\n",
      "2\n",
      "1\n",
      "0\n"
     ]
    }
   ],
   "source": [
    "list_new = [3,2,1,0]\n",
    "for i in list_new:\n",
    "    print(i)"
   ]
  },
  {
   "cell_type": "markdown",
   "id": "38be9eaf",
   "metadata": {},
   "source": [
    "Q3 Use a list comprehension to make a list of the even numbers in range(10)"
   ]
  },
  {
   "cell_type": "code",
   "execution_count": 10,
   "id": "289db672",
   "metadata": {},
   "outputs": [
    {
     "data": {
      "text/plain": [
       "[0, 2, 4, 6, 8]"
      ]
     },
     "execution_count": 10,
     "metadata": {},
     "output_type": "execute_result"
    }
   ],
   "source": [
    "even_numbers = [i for i in range(10) if i%2==0]\n",
    "even_numbers"
   ]
  },
  {
   "cell_type": "markdown",
   "id": "b81e25f4",
   "metadata": {},
   "source": [
    "Q4 Use a dictionary comprehension to create the dictionary squares. Use range(10) to return the\n",
    "keys, and use the square of each key as its value."
   ]
  },
  {
   "cell_type": "code",
   "execution_count": 11,
   "id": "a4bd4f26",
   "metadata": {},
   "outputs": [
    {
     "data": {
      "text/plain": [
       "{0: 0, 1: 1, 2: 4, 3: 9, 4: 16, 5: 25, 6: 36, 7: 49, 8: 64, 9: 81}"
      ]
     },
     "execution_count": 11,
     "metadata": {},
     "output_type": "execute_result"
    }
   ],
   "source": [
    "sqr_dict = {i:i**2 for i in range(10)}\n",
    "sqr_dict"
   ]
  },
  {
   "cell_type": "markdown",
   "id": "a63658eb",
   "metadata": {},
   "source": [
    "Q5 Construct the set odd from the odd numbers in the range using a set comprehension (10)."
   ]
  },
  {
   "cell_type": "code",
   "execution_count": 12,
   "id": "0ea1c95c",
   "metadata": {},
   "outputs": [
    {
     "data": {
      "text/plain": [
       "{1, 3, 5, 7, 9}"
      ]
     },
     "execution_count": 12,
     "metadata": {},
     "output_type": "execute_result"
    }
   ],
   "source": [
    "odd_set = {i for i in range(10) if i%2 != 0}\n",
    "odd_set"
   ]
  },
  {
   "cell_type": "markdown",
   "id": "f68ac73f",
   "metadata": {},
   "source": [
    "Q6 Define a function called good that returns the list ['Harry', 'Ron', 'Hermione']."
   ]
  },
  {
   "cell_type": "code",
   "execution_count": 14,
   "id": "414faf82",
   "metadata": {},
   "outputs": [
    {
     "name": "stdout",
     "output_type": "stream",
     "text": [
      "['Harry', 'Ron', 'Hermione']\n"
     ]
    }
   ],
   "source": [
    "names = ['Harry', 'Ron', 'Hermione']\n",
    "def good():\n",
    "    print(names)\n",
    "good()"
   ]
  },
  {
   "cell_type": "markdown",
   "id": "24cebc3e",
   "metadata": {},
   "source": [
    "Q7 Define an exception called OopsException. Raise this exception to see what happens. Then write\n",
    "the code to catch this exception and print 'Caught an oops'"
   ]
  },
  {
   "cell_type": "code",
   "execution_count": 18,
   "id": "75cb4146",
   "metadata": {},
   "outputs": [
    {
     "name": "stdout",
     "output_type": "stream",
     "text": [
      "Caught an oops\n"
     ]
    }
   ],
   "source": [
    "class OopsException(Exception):\n",
    "    pass\n",
    "\n",
    "\n",
    "def with_exception(a):\n",
    "    if a < 0:\n",
    "        raise OopsException(a)\n",
    "\n",
    "\n",
    "try:\n",
    "    with_exception(-1)\n",
    "except OopsException as err:\n",
    "    print('Caught an oops')\n"
   ]
  },
  {
   "cell_type": "markdown",
   "id": "4ab61290",
   "metadata": {},
   "source": [
    "Q8 - Use zip() to make a dictionary called movies that pairs these lists: titles = ['Creature of Habit', 'Crewel Fate'] and plots = ['A nun turns into a monster', 'A haunted yarn shop']."
   ]
  },
  {
   "cell_type": "code",
   "execution_count": 20,
   "id": "7015bcf5",
   "metadata": {},
   "outputs": [
    {
     "data": {
      "text/plain": [
       "{'Creature of Habit': 'A nun turns into a monster',\n",
       " 'Crewel Fate': 'A haunted yarn shop'}"
      ]
     },
     "execution_count": 20,
     "metadata": {},
     "output_type": "execute_result"
    }
   ],
   "source": [
    "titles = ['Creature of Habit', 'Crewel Fate']\n",
    "plots = ['A nun turns into a monster', 'A haunted yarn shop']\n",
    "\n",
    "movies = dict(zip(titles,plots))\n",
    "movies"
   ]
  }
 ],
 "metadata": {
  "kernelspec": {
   "display_name": "Python 3 (ipykernel)",
   "language": "python",
   "name": "python3"
  },
  "language_info": {
   "codemirror_mode": {
    "name": "ipython",
    "version": 3
   },
   "file_extension": ".py",
   "mimetype": "text/x-python",
   "name": "python",
   "nbconvert_exporter": "python",
   "pygments_lexer": "ipython3",
   "version": "3.10.9"
  }
 },
 "nbformat": 4,
 "nbformat_minor": 5
}
